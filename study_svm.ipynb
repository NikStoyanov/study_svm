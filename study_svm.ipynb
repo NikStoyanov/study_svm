{
 "cells": [
  {
   "cell_type": "markdown",
   "metadata": {},
   "source": [
    "# Studying Support Vector Machines"
   ]
  },
  {
   "cell_type": "markdown",
   "metadata": {},
   "source": [
    "Having used support vector machines (SVM) for classification problems I decided to learn the mathematical theory behind them which the lack thereof is probably the principal reason for my poor results. Because of the awesomeness of [orgmode](https://orgmode.org/) and how easy it is to turn notes into a blog post I decided to do it. The structure of the document is:\n",
    "\n",
    "- Theory : mathematical formulation of SVM and theory of solver\n",
    "- Visualisation : python code for plotting SVM\n",
    "- Exploration : show how SVM work in practise"
   ]
  },
  {
   "cell_type": "markdown",
   "metadata": {},
   "source": [
    "## Theory"
   ]
  },
  {
   "cell_type": "markdown",
   "metadata": {},
   "source": [
    "To start SVM is a technique for data classification (and regression as I will show in the end). Having a training set with labels and features SVM can create a model which predicts the labels of the test data. At this point I have found it useful to define what is it that we want to achieve since most of the work in SVM is to transform the initial solution into a useful solution. That is we are looking for a linear analytical convex optimization problem which has the innate characteristic of supporting different topological spaces."
   ]
  },
  {
   "cell_type": "markdown",
   "metadata": {},
   "source": [
    "Given a training set of feature and label pairs $(\\mathbf{x}_i, y_i), i=1,\\ldots,N$ where $N$ is the number of data points, the features $\\mathbf{x} \\in R^n$ ($\\mathbf{x}$ is a vector holding the features of a data point) and labels $y \\in (-1, 1)$ the support vector machine finds a hyperplane (plane with dimension of $n-1$) which separates the classes by minimizing the error and maximizing the perpendicular distance between the closest (most critical) points [[0]](https://www.csie.ntu.edu.tw/~cjlin/papers/guide/guide.pdf). The decision function is then fully specified by a subset of training samples known as support vectors. Using the terminology of Professor Winston shown [here [1]](https://www.youtube.com/watch?v=_PwhiWxHK8o), the support vectors are the gutters of the street with the center line being the hyperplane (in 2D this is just a line). The equations for the support vectors are given below, taken from the amazingly written article titled \"An Idiot’s guide to Support vector\n",
    "machines (SVMs)\" [[2]](http://web.mit.edu/6.034/wwwbob/svm.pdf) - this was perfect for me :)"
   ]
  },
  {
   "cell_type": "markdown",
   "metadata": {},
   "source": [
    "$$\n",
    "\\begin{aligned}\n",
    "\\mathbf{w}.\\mathbf{x}_i + b = 1 && \\text{support vector for } y_i = 1\\\\\n",
    "\\mathbf{w}.\\mathbf{x}_i + b = 0 && \\text{street center line}\\\\\n",
    "\\mathbf{w}.\\mathbf{x}_i + b = -1 && \\text{support vector for } y_i = -1\n",
    "\\end{aligned}\n",
    "$$"
   ]
  },
  {
   "cell_type": "markdown",
   "metadata": {},
   "source": [
    "What the above means is that a vector $\\mathbf{x}_i$ points to a point somewhere and the inner product (dot product) with the normal to the hyperplane gives a constant $b$. Mathematically $\\mathbf{w} \\cdot \\mathbf{x}_i = ||\\mathbf{w}|| ||\\mathbf{x}_i|| cos(\\theta) = -b$, where $ ||.|| $ denotes the Euclidian distance i.e. size. and $cos(\\theta)$ is the cosine of the smaller angle between the two vectors. The other two equations are for the decision boundaries (hyperplanes that go through the closest points) and we just define that they give $1-b$ and $-1-b$. Why? If we chose $5-b$ and $-5-b$ and are consistent the constant factor will be dropped in the optization problem as shown below."
   ]
  },
  {
   "cell_type": "markdown",
   "metadata": {},
   "source": [
    "The above definition gives an inifite  number of hyperplanes since there are infinite values for $b$, therefore, we need more constraints. In SVM the additional constraint is that we choose the hyperplane which maximizes the distance between the decision boundaries. We wish to maximize the distance between the gutters (support vectors) and the center line of the street (hyperplane). This is the Euclidian distance expressed below for half of the street. We take the modulus of the of hyperplane since we are interested in the distance."
   ]
  },
  {
   "cell_type": "markdown",
   "metadata": {},
   "source": [
    "$$\n",
    "\\frac{|\\mathbf{w}.\\mathbf{x}+b|}{||\\mathbf{w}||} = \\frac{|+1|}{||\\mathbf{w}||} = \\frac{|-1|}{||\\mathbf{w}||} = \\frac{1}{||\\mathbf{w}||}\n",
    "$$"
   ]
  },
  {
   "cell_type": "markdown",
   "metadata": {},
   "source": [
    "Due to symmetry the total distance is then given by"
   ]
  },
  {
   "cell_type": "markdown",
   "metadata": {},
   "source": [
    "$$\n",
    "\\frac{2}{||\\mathbf{w}||}\n",
    "$$"
   ]
  },
  {
   "cell_type": "markdown",
   "metadata": {},
   "source": [
    "To visualize what we have until now I have largely adapted a tikz script from Yifan Peng which you can find [here](http://blog.pengyifan.com/tikz-example-svm-trained-with-samples-from-two-classes/). The adapted script is shown below for reproducability."
   ]
  },
  {
   "cell_type": "markdown",
   "metadata": {},
   "source": [
    "\\documentclass[10pt,letterpaper]{article}\n",
    " \n",
    "\\usepackage{tikz}\n",
    "\\usetikzlibrary{arrows}\n",
    "\\usetikzlibrary{shapes.misc}\n",
    " \n",
    "\\usepackage[active,tightpage,pdftex]{preview}\n",
    "\\PreviewEnvironment{tikzpicture}\n",
    " \n",
    "\\tikzset{cross/.style={cross out, draw=black, minimum size=2*(#1-\\pgflinewidth), inner sep=0pt, outer sep=0pt, rotate=45},\n",
    "\tcross/.default={3pt}}\n",
    " \n",
    "\\begin{document}\n",
    "\\begin{tikzpicture}\n",
    "\t% axes\n",
    "\t\\draw [<->,thick] (0,5) node (yaxis) [above] {$x_2$}\n",
    "\t\t|- (5,0) node (xaxis) [right] {$x_1$};\n",
    "        \n",
    "  \t% draw line\n",
    "  \t\\draw (0,-1) -- (5,4); % y=x-1\n",
    "  \t\\draw[dashed] (-1,0) -- (4,5); % y=x+1\n",
    "  \t\\draw[dashed] (2,-1) -- (6,3); % y=x-3\n",
    "  \n",
    "  \t% \\draw labels\n",
    "  \t\\draw (3.5,3) node[rotate=45,font=\\small] \n",
    "    \t{$\\mathbf{w}\\cdot \\mathbf{x} + b = 0$};\n",
    "  \t\\draw (2.5,4) node[rotate=45,font=\\small] \n",
    "        {$\\mathbf{w}\\cdot \\mathbf{x} + b = 1$};\n",
    "  \t\\draw (4.5,2) node[rotate=45,font=\\small] \n",
    "        {$\\mathbf{w}\\cdot \\mathbf{x} + b = -1$};\n",
    "        \n",
    " \t% street with\n",
    "  \t\\draw[dotted] (4,5) -- (6,3);\n",
    "  \t\\draw (5.25,4.25) node[rotate=-45] {$\\frac{2}{\\Vert \\mathbf{w} \\Vert}$};\n",
    "  \n",
    "  \t% dots class 0\n",
    "\t\\draw[black, thick]   (1.5,2.5)   circle (3pt);\n",
    "\t\\draw (1.5, 2.5) node[cross]{};\n",
    "\t\\draw[black] (1,2.5)     circle (3pt);\n",
    "\t\\draw (1, 2.5) node[cross]{};\n",
    "\t\\draw[black] (0.75,2)    circle (3pt);\n",
    "\t\\draw (0.75, 2) node[cross]{};\n",
    "\t\\draw[black] (0.6,1.9)   circle (3pt);\n",
    "\t\\draw (0.6, 1.9) node[cross]{}; \n",
    "\t\\draw[black] (0.77, 2.5) circle (3pt);\n",
    "\t\\draw (0.77, 2.5) node[cross]{};\n",
    "\t\\draw[black] (1.5,3)     circle (3pt);\n",
    "\t\\draw (1.5, 3) node[cross]{};\n",
    "\t\\draw[black] (1.3,3.3)   circle (3pt);\n",
    "\t\\draw (1.3, 3.3) node[cross]{};\n",
    "\t\\draw[black] (0.6,3.2)   circle (3pt);\n",
    "\t\\draw (0.6, 3.2) node[cross]{};\n",
    "\t\n",
    "\t% dots class 1\n",
    "\t\\draw[black, thick] (4,1)     circle (3pt); \n",
    "\t\\draw[black, thick] (3.3,.3)  circle (3pt); \n",
    "\t\\draw[black]     (4.5,1.2) circle (3pt); \n",
    "\t\\draw[black]     (4.5,.5)  circle (3pt); \n",
    "\t\\draw[black]     (3.9,.7)  circle (3pt);  \n",
    "\t\\draw[black]     (3.5,.2)  circle (3pt); \n",
    "\t\\draw[black]     (4,.3)    circle (3pt);\n",
    "\t\n",
    "\\end{tikzpicture}\n",
    "\\end{document}"
   ]
  },
  {
   "cell_type": "markdown",
   "metadata": {},
   "source": [
    "Using [babel](https://orgmode.org/worg/org-contrib/babel/) the script can be compiled to a pdf file. I mainly use pdf files for plotting in my notes/papers so I nevered had to figure out how to make tikz spit an svg file. So here I am going for a lazy solution to just convert it using pdf2svg."
   ]
  },
  {
   "cell_type": "markdown",
   "metadata": {},
   "source": [
    "pdf2svg file.pdf file.svg"
   ]
  },
  {
   "cell_type": "markdown",
   "metadata": {},
   "source": [
    "<img src=\"./fig/svm.svg\" alt=\"drawing\" width=\"500\"/>"
   ]
  },
  {
   "cell_type": "markdown",
   "metadata": {},
   "source": [
    "We can now follow the logical sequence than since it ok to maximize $2/||w||$ it is ok to maximize $1/||w||$ and minimize $||w||$. Finally, for mathematical convenience it is ok to minimize $\\frac{1}{2}||w||^2$. This mathematical convenience lies in the fact that the least squares error coincides with the maximum likelihood estimates if we assume that the errors are independent, normally distributed, with zero mean and have equal variances. Our optimization problem then becomes:"
   ]
  },
  {
   "cell_type": "markdown",
   "metadata": {},
   "source": [
    "$$\n",
    "\\arg \\underset{\\mathbf{w}} {min} \\frac{1}{2}||\\mathbf{w}||^2\n",
    "$$"
   ]
  },
  {
   "cell_type": "markdown",
   "metadata": {},
   "source": [
    "Also assuming that no data points exist between the gutters i.e. our error has to be $0$, we get the following:"
   ]
  },
  {
   "cell_type": "markdown",
   "metadata": {},
   "source": [
    "$$\n",
    "\\begin{aligned}\n",
    "\\mathbf{w}.\\mathbf{x}_i + b \\geq 1 && ,\\text{if} && y_i = 1\\\\\n",
    "\\mathbf{w}.\\mathbf{x}_i + b \\leq -1 && ,\\text{if} && y_i = -1\n",
    "\\end{aligned}\n",
    "$$"
   ]
  },
  {
   "cell_type": "markdown",
   "metadata": {},
   "source": [
    "Or we can combine them into one equation by using the variable $y_i$ as such: $y_i(\\mathbf{x}_i.\\mathbf{w})\\geq 1$."
   ]
  },
  {
   "cell_type": "markdown",
   "metadata": {},
   "source": [
    "This is a quadratic constraint optimization problem which means that the surface if quadratic. This is great news since quadratic surfaces have a single extremum (minama/maxima). Or otherwise said, our solver is guaranteed to not get trapped in local minimas unlike navigating through neural networks. A two dimensional case with features called $x_1$ and $x_2$ is shown below. The image is blatantly taken from [this](https://en.wikipedia.org/wiki/Lagrange_multiplier) wikipedia article."
   ]
  },
  {
   "cell_type": "markdown",
   "metadata": {},
   "source": [
    "<img src=\"./fig/LagrangeMultipliers2D.svg\" alt=\"drawing\" width=\"500\"/>"
   ]
  },
  {
   "cell_type": "markdown",
   "metadata": {},
   "source": [
    "This is a constraint optimization problem. As with all optimization problems it can be solved numerically, however, numerical solutions introduce a whole host of other problems such as issues with convergence and additional hyperparameters. It turns out that there is a better approach and an analytical solution can be found. We are looking for the maxima of $f$ to exist on $g$. If we superimpose the two functions, the gradients must line up, otherwise there is no solution. The gradient will return the direction in which a function increases most rappidly (steepest ascent in this case). Now we require that the two gradients are in the same direction and therefore they must be multiples of each other. The constant which gives the equality is called a Lagrange multiplier and is needed because the directions of the vectors are parallel but the magnitudes as different. Mathematically this can be expressed as below."
   ]
  },
  {
   "cell_type": "markdown",
   "metadata": {},
   "source": [
    "$$\n",
    "\\nabla f = -\\lambda \\nabla g\n",
    "$$"
   ]
  },
  {
   "cell_type": "markdown",
   "metadata": {},
   "source": [
    "Where $\\lambda$ is the Lagrange multiplier and $\\nabla$ is the gradient given by $\\nabla = \\frac{\\partial}{\\partial x^i} \\mathbf{e}^i$. The negative sign of $\\lambda$ is arbitrary and the derivation can be done with a positive sign. It really does not matter since $\\lambda$ is a constant."
   ]
  },
  {
   "cell_type": "markdown",
   "metadata": {},
   "source": [
    "A little more explanation on the above is that at the solution point (assuming we have somehow found it) the constraint is tangent to the surface. This is what having a solution means. Now the derivatives of $f$ and $g$ will both point towards the extremum of $f$ which is the maxima in this case. There is no other way if a solution exists since we superimposed $g$ on $f$."
   ]
  },
  {
   "cell_type": "markdown",
   "metadata": {},
   "source": [
    "Rearranging gives"
   ]
  },
  {
   "cell_type": "markdown",
   "metadata": {},
   "source": [
    "$$\n",
    "\\frac{\\partial f}{\\partial x^i} + \\lambda \\frac{\\partial g}{\\partial x^i} = 0\n",
    "$$"
   ]
  },
  {
   "cell_type": "markdown",
   "metadata": {},
   "source": [
    "We also need a second constraint which will we require that the solution also lie on the constraint which is obvious but necessary condition. This is because the above equation only guarantees that the gradients are in the same direction which is neccessary but not sufficient and we will get infinite solutions. To get a unique answer we need both as such $g(\\mathbf{x^i}) = 0$. For the derivatives to work we also need to assume the functions have continuous first derivatives $f, g \\in C^1$. The problem can now be expressed as optimization of the Lagrangian $\\mathcal{L}$."
   ]
  },
  {
   "cell_type": "markdown",
   "metadata": {},
   "source": [
    "$$\n",
    "\\mathcal{L} (x, \\lambda) = f(x) + \\lambda g(x)\\\\\n",
    "\\nabla \\mathcal{L} = 0\n",
    "$$"
   ]
  },
  {
   "cell_type": "markdown",
   "metadata": {},
   "source": [
    "The above is exaclty the same formulation as before as quickly shown below."
   ]
  },
  {
   "cell_type": "markdown",
   "metadata": {},
   "source": [
    "$$\n",
    "\\begin{aligned}\n",
    "\\nabla \\mathcal{L} & = 0\\\\\n",
    "\\frac{\\partial \\mathcal{L}}{\\partial x} & = 0 = \\frac{\\partial f}{\\partial x} + \\frac{\\partial \\lambda g}{\\partial x} = \\frac{\\partial f}{\\partial x} + \\lambda \\frac{\\partial g}{\\partial x}\\\\\n",
    "\\frac{\\partial \\mathcal{L}}{\\partial \\lambda} & = 0 = \\frac{\\partial f}{\\partial \\lambda} + \\frac{\\partial \\lambda g}{\\partial \\lambda} = 0 + g(x) = g(x)\n",
    "\\end{aligned}\n",
    "$$"
   ]
  },
  {
   "cell_type": "markdown",
   "metadata": {},
   "source": [
    "We can now generalize the expression to multiple constraints."
   ]
  },
  {
   "cell_type": "markdown",
   "metadata": {},
   "source": [
    "$$\n",
    "\\mathcal{L} (x^i, \\lambda) = f(x^i) + \\sum_i \\lambda_i g_i(x^i)\n",
    "$$"
   ]
  },
  {
   "cell_type": "markdown",
   "metadata": {},
   "source": [
    "We can now implement the Lagrangian for SVM. The optimization problem is shown below."
   ]
  },
  {
   "cell_type": "markdown",
   "metadata": {},
   "source": [
    "$$\n",
    "\\begin{aligned}\n",
    "\\arg  \\underset{{\\mathbf{w}}}{min} && \\frac{1}{2} ||\\mathbf{w}||^2\\\\\n",
    "\\text{subject to} && y_i (\\mathbf{w} \\cdot \\mathbf{x}_i + b) = 1\n",
    "\\end{aligned}\n",
    "$$"
   ]
  },
  {
   "cell_type": "markdown",
   "metadata": {},
   "source": [
    "The Lagrangian is therefore given by the following over $N$ training points. This is known as the primal optimization problem. Later we are going to derive the dual optimization which is what we will use."
   ]
  },
  {
   "cell_type": "markdown",
   "metadata": {},
   "source": [
    "$$\n",
    "\\begin{aligned}\n",
    "\\arg \\underset{{\\mathbf{w},b}} {min}  \\mathcal{L}_p (x^i, b, \\lambda) = & \\frac{1}{2} ||\\mathbf{w}||^2 - \\sum_i \\lambda_i y_i (\\mathbf{w} \\cdot \\mathbf{x}_i + b) \\\\\n",
    " =& \\frac{1}{2} ||\\mathbf{w}||^2 - \\sum_{i=1}^N {\\lambda_i y_i (\\mathbf{w} \\cdot \\mathbf{x}_i + b)} + \\sum_{i=1}^N {\\lambda_i}\n",
    "\\end{aligned}\n",
    "$$"
   ]
  },
  {
   "cell_type": "markdown",
   "metadata": {},
   "source": [
    "To minimize get the derivates with respect to $x$ and $b$ and set to zero."
   ]
  },
  {
   "cell_type": "markdown",
   "metadata": {},
   "source": [
    "$$\n",
    "\\begin{aligned}\n",
    "\\frac{\\partial \\mathcal{L}}{\\partial w} & = \\mathbf{w} - \\sum_{i=1}^N \\lambda_i y_i \\mathbf{x}_i = 0\\\\\n",
    "\\frac{\\partial \\mathcal{L}}{\\partial b} & = \\sum_{i=1}^{N} \\lambda_i y_i = 0\\\\\n",
    "\\end{aligned}\n",
    "$$"
   ]
  },
  {
   "cell_type": "markdown",
   "metadata": {},
   "source": [
    "Therefore"
   ]
  },
  {
   "cell_type": "markdown",
   "metadata": {},
   "source": [
    "$$\n",
    "\\begin{aligned}\n",
    "& \\mathbf{w} = \\sum_{i=1}^N \\lambda_i y_i \\mathbf{x}_i \\\\\n",
    "& \\sum_{i=1}^N \\lambda_i y_i = 0\n",
    "\\end{aligned}\n",
    "$$"
   ]
  },
  {
   "cell_type": "markdown",
   "metadata": {},
   "source": [
    "The above gives us an extremely important insight into the problem. We now know that the weights $w$ are a linear combination of the features, $x$, the labels, $y$ and the Lagrangian multipliers, $\\lambda_i$."
   ]
  },
  {
   "cell_type": "markdown",
   "metadata": {},
   "source": [
    "We can now solve the above problem and get our results. However, we will not have achieved one of our criteria at the start and that is the ability to innately handle different topological spaces which will be extremely limiting as will be shown later. The above equations depend on $w$ and $b$ which is normal since this is what we derived : ). To allow the space to be transformed it is very desirable to remove that dependence. Luckily there is the Kuhn-Tucker theorem which states:"
   ]
  },
  {
   "cell_type": "markdown",
   "metadata": {},
   "source": [
    "So substituting back into the primal optimization problem we obtain"
   ]
  },
  {
   "cell_type": "markdown",
   "metadata": {},
   "source": [
    "$$\n",
    "TODO\n",
    "\\begin{aligned}\n",
    "\\mathcal{L}_p (x^i, b, \\lambda) = & \\frac{1}{2} ||\\mathbf{w}||^2 - \\sum_{i=1}^N {\\lambda_i y_i (\\mathbf{w} \\cdot \\mathbf{x}_i + b)} + \\sum_{i=1}^N {\\lambda_i} \\\\\n",
    "= &  \\frac{1}{2} \n",
    "\\end{aligned}\n",
    "$$"
   ]
  },
  {
   "cell_type": "markdown",
   "metadata": {},
   "source": [
    "$$\n",
    "\\sum_{i=1}^N \\lambda_i y_i = 0\n",
    "$$"
   ]
  },
  {
   "cell_type": "markdown",
   "metadata": {},
   "source": [
    "Solving the dual optimization problem we obtain the Lagrangian multipliers! Literature tells us only the support vectors (in the street gutter) will be non-zero. This is important so we can check it later in scikit-learn. From here we can calculate the weights as below"
   ]
  },
  {
   "cell_type": "markdown",
   "metadata": {},
   "source": [
    "$$\n",
    "\\mathbf{w} = \\sum_{i=1}^N \\lambda_i y_i \\mathbf{x}_i\n",
    "$$"
   ]
  },
  {
   "cell_type": "markdown",
   "metadata": {},
   "source": [
    "Following from the Lagrangian multipliers most of the weights will also be zero. Only the ones associated with the support vectors will have non-zero values."
   ]
  },
  {
   "cell_type": "markdown",
   "metadata": {},
   "source": [
    "Therefore, having trained on some linearly separable data we can classify an unknown points $p$ as below"
   ]
  },
  {
   "cell_type": "markdown",
   "metadata": {},
   "source": [
    "$$\n",
    "f(x) = \\mathbf{w} \\cdot \\mathbf{p} + b = \\sum_{i=1}^N (\\lambda_i y_i \\mathbf{x}_i \\cdot \\mathbf{p}) + b\n",
    "$$"
   ]
  },
  {
   "cell_type": "markdown",
   "metadata": {},
   "source": [
    "The classification is then determined by the sign of $f(x)$."
   ]
  },
  {
   "cell_type": "markdown",
   "metadata": {},
   "source": [
    "$$\n",
    "sgn f(x)\n",
    "$$"
   ]
  },
  {
   "cell_type": "markdown",
   "metadata": {},
   "source": [
    "In scikit-learn there is one more term, $C$, added to the optimization which takes care of data that is impossible to separate with a given kernel. This is likely to occur since data from the real world is likely to be noisy. This parameter controls how much error we tolerate and in essence determines the trade-off between the bias and variance of our classifier. Unfortunately, $C$ is a hyperparameter and needs to be tuned. The modified equations are shown below."
   ]
  },
  {
   "cell_type": "markdown",
   "metadata": {},
   "source": [
    "$$\n",
    "\\begin{aligned}\n",
    "\\arg  \\underset{{\\mathbf{w},b,\\mathbf{\\xi}}}{min} && \\frac{1}{2} \\mathbf{w}^{T} \\mathbf{w} + C \\sum_{i=1}^N \\xi_i\\\\\n",
    "\\text{subject to} && y_i (\\mathbf{w}^T \\phi(\\mathbf{x}_i) + b) \\geq 1 - \\xi_i\\\\\n",
    "&& \\xi_i \\geq 0\n",
    "\\end{aligned}\n",
    "$$"
   ]
  },
  {
   "cell_type": "markdown",
   "metadata": {},
   "source": [
    "## Visualisation"
   ]
  },
  {
   "cell_type": "markdown",
   "metadata": {},
   "source": [
    "The SVM implementation in scikit-learn is used. The first dataset is [make blobs](http://scikit-learn.org/stable/modules/generated/sklearn.datasets.make_blobs.html#sklearn.datasets.make_blobs) which is random points sampled from a gaussian distribution to experiment with how SVM work and learn the mathematics behind it. The second set is the [iris](http://scikit-learn.org/stable/auto_examples/datasets/plot_iris_dataset.html) dataset which has noisy points, thereby allowing the use of SVM in practice."
   ]
  },
  {
   "cell_type": "code",
   "execution_count": 9,
   "metadata": {},
   "outputs": [],
   "source": [
    "import matplotlib.pyplot as plt\n",
    "import numpy as np\n",
    "from sklearn import datasets, svm\n",
    "import random\n",
    "import sys\n",
    "%matplotlib inline"
   ]
  },
  {
   "cell_type": "markdown",
   "metadata": {},
   "source": [
    "Secondly we need to plot the results. The first step is to make a matrix of points which constituted our mesh with a grid point size of $h\\times h$."
   ]
  },
  {
   "cell_type": "code",
   "execution_count": 10,
   "metadata": {},
   "outputs": [],
   "source": [
    "def make_meshgrid(x, y, h=.02):\n",
    "    \"\"\"Create a mesh of points to plot in\n",
    "\n",
    "    Parameters\n",
    "    ----------\n",
    "    x: data to base x-axis meshgrid on\n",
    "    y: data to base y-axis meshgrid on\n",
    "    h: stepsize for meshgrid, optional\n",
    "\n",
    "    Returns\n",
    "    -------\n",
    "    xx, yy : ndarray\n",
    "    \"\"\"\n",
    "    \n",
    "    x_min, x_max = x.min() - 1, x.max() + 1\n",
    "    y_min, y_max = y.min() - 1, y.max() + 1\n",
    "    xx, yy = np.meshgrid(np.arange(x_min, x_max, h),\n",
    "                         np.arange(y_min, y_max, h))\n",
    "    return xx, yy"
   ]
  },
  {
   "cell_type": "markdown",
   "metadata": {},
   "source": [
    "The second step is to fill the mesh with the contours values. Every grid point in the mesh is passed to the trained SVM classifier to determine its label. The result is a contour plot showing the decision bondaries."
   ]
  },
  {
   "cell_type": "code",
   "execution_count": 11,
   "metadata": {},
   "outputs": [],
   "source": [
    "def plot_contours(ax, clf, xx, yy, **params):\n",
    "    \"\"\"Plot the decision boundaries for a classifier.\n",
    "\n",
    "    Parameters\n",
    "    ----------\n",
    "    ax: matplotlib axes object\n",
    "    clf: a classifier\n",
    "    xx: meshgrid ndarray\n",
    "    yy: meshgrid ndarray\n",
    "    params: dictionary of params to pass to contourf, optional\n",
    "    \"\"\"\n",
    "\n",
    "    Z = clf.predict(np.c_[xx.ravel(), yy.ravel()])\n",
    "    Z = Z.reshape(xx.shape)\n",
    "    out = ax.contourf(xx, yy, Z, **params)\n",
    "    return out"
   ]
  },
  {
   "cell_type": "code",
   "execution_count": 12,
   "metadata": {},
   "outputs": [
    {
     "data": {
      "image/png": "[encoded data removed]",
      "text/plain": [
       "<matplotlib.figure.Figure at 0x7f0a2dc39f60>"
      ]
     },
     "metadata": {},
     "output_type": "display_data"
    }
   ],
   "source": [
    "# we create 40 separable points\n",
    "blobs = datasets.make_blobs(n_samples=40, centers=2, random_state=6)\n",
    "X, y = blobs\n",
    "\n",
    "# fit the model, don't regularize for illustration purposes\n",
    "clf = svm.SVC(kernel='linear', C=1000)\n",
    "clf.fit(X, y)\n",
    "\n",
    "plt.scatter(X[:, 0], X[:, 1], c=y, s=30, cmap=plt.cm.Paired)\n",
    "\n",
    "# plot the decision function\n",
    "ax = plt.gca()\n",
    "xlim = ax.get_xlim()\n",
    "ylim = ax.get_ylim()\n",
    "\n",
    "# create grid to evaluate model\n",
    "YY, XX = np.meshgrid(ylim, xlim)\n",
    "xy = np.vstack([XX.ravel(), YY.ravel()]).T\n",
    "Z = clf.decision_function(xy).reshape(XX.shape)\n",
    "\n",
    "# plot decision boundary and margins\n",
    "ax.contour(XX, YY, Z, colors='k', levels=[-1, 0, 1], alpha=0.5,\n",
    "           linestyles=['--', '-', '--'])\n",
    "# plot support vectors\n",
    "ax.scatter(clf.support_vectors_[:, 0], clf.support_vectors_[:, 1], s=100,\n",
    "           linewidth=1, facecolors='none', edgecolors='k')\n",
    "plt.show()"
   ]
  },
  {
   "cell_type": "markdown",
   "metadata": {},
   "source": [
    "## Exploration"
   ]
  },
  {
   "cell_type": "markdown",
   "metadata": {},
   "source": [
    "All the work done to this point in the blog post is for binary classification and traditionally SVM was designed for such problems. Methods exist which allow multi-class classification and a detailed description can be found [here](https://www.csie.ntu.edu.tw/~cjlin/papers/multisvm.pdf). In general two approaches exist:\n",
    "- One vs. the rest: For $k$ classes train $k$ binary classifiers. Each classifier tests whether an example belongs to its own class versus any other class. The classifier with the largest output is taken to be the class of the example.\n",
    "- One vs. one: For $k$ classes train $k(k − 1)/2$ binary classifiers. A voting procedure is used to combine the outputs. There are many proposals for a voting procedure discussed in the above paper."
   ]
  },
  {
   "cell_type": "code",
   "execution_count": 24,
   "metadata": {},
   "outputs": [],
   "source": [
    "# import some data to play with\n",
    "iris = datasets.load_iris()\n",
    "# Take the first two features. We could avoid this by using a two-dim dataset\n",
    "X = iris.data[:, :2]\n",
    "y = iris.target\n",
    "\n",
    "# we create an instance of SVM and fit out data. We do not scale our\n",
    "# data since we want to plot the support vectors\n",
    "C = 1.0  # SVM regularization parameter\n",
    "models = (svm.SVC(kernel='linear', C=C),\n",
    "          svm.LinearSVC(C=C),\n",
    "          svm.SVC(kernel='rbf', gamma=0.7, C=C),\n",
    "          svm.SVC(kernel='poly', degree=3, C=C))\n",
    "models = (clf.fit(X, y) for clf in models)\n",
    "\n",
    "# title for the plots\n",
    "titles = ('SVC with linear kernel - one vs. one',\n",
    "          'LinearSVC (linear kernel) - one vs. all',\n",
    "          'SVC with RBF kernel',\n",
    "          'SVC with polynomial (degree 3) kernel')"
   ]
  },
  {
   "cell_type": "code",
   "execution_count": 25,
   "metadata": {
    "scrolled": true
   },
   "outputs": [
    {
     "data": {
      "image/png": "[encoded data removed]",
      "text/plain": [
       "<matplotlib.figure.Figure at 0x7f0a2b6d2898>"
      ]
     },
     "metadata": {},
     "output_type": "display_data"
    }
   ],
   "source": [
    "# Set-up 2x2 grid for plotting.\n",
    "fig, sub = plt.subplots(2, 2)\n",
    "plt.subplots_adjust(wspace=0.4, hspace=0.4)\n",
    "\n",
    "X0, X1 = X[:, 0], X[:, 1]\n",
    "xx, yy = make_meshgrid(X0, X1)\n",
    "\n",
    "for clf, title, ax in zip(models, titles, sub.flatten()):\n",
    "    plot_contours(ax, clf, xx, yy,\n",
    "                  cmap=plt.cm.coolwarm, alpha=0.8)\n",
    "    ax.scatter(X0, X1, c=y, cmap=plt.cm.coolwarm, s=20, edgecolors='k')\n",
    "    ax.set_xlim(xx.min(), xx.max())\n",
    "    ax.set_ylim(yy.min(), yy.max())\n",
    "    ax.set_xlabel('Sepal length')\n",
    "    ax.set_ylabel('Sepal width')\n",
    "    ax.set_title(title)\n",
    "\n",
    "plt.show()"
   ]
  },
  {
   "cell_type": "markdown",
   "metadata": {},
   "source": [
    "The linear models LinearSVC() and SVC(kernel='linear') yield slightly different decision boundaries. This can be a consequence of the following differences:\n",
    "\n",
    "LinearSVC minimizes the squared hinge loss while SVC minimizes the regular hinge loss.\n",
    "LinearSVC uses the One-vs-All (also known as One-vs-Rest) multiclass reduction while SVC uses the One-vs-One multiclass reduction.\n",
    "\n",
    "http://scikit-learn.org/stable/auto_examples/svm/plot_iris.html"
   ]
  }
 ],
 "metadata": {
  "kernelspec": {
   "display_name": "Python 3",
   "language": "python",
   "name": "python3"
  },
  "language_info": {
   "codemirror_mode": {
    "name": "ipython",
    "version": 3
   },
   "file_extension": ".py",
   "mimetype": "text/x-python",
   "name": "python",
   "nbconvert_exporter": "python",
   "pygments_lexer": "ipython3",
   "version": "3.5.4"
  }
 },
 "nbformat": 4,
 "nbformat_minor": 2
}
